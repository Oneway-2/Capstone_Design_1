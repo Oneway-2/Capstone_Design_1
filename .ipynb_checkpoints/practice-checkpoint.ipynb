{
 "cells": [
  {
   "cell_type": "code",
   "execution_count": null,
   "metadata": {},
   "outputs": [],
   "source": [
    "file_path = os.getcwd() + '/voicefiles/'\n",
    "none_text = 'There are no words in memory'\n",
    "tts = gTTS(text=none_text, lang='en')\n",
    "text_en = text[0]\n",
    "text_kr = text[1]\n",
    "tts_en = gTTS(text=text[0], lang='en')\n",
    "tts_kr = gTTS(text=str(text[1:]), lang='ko')\n",
    "tts.save(file_path + 'temp_sound.mp3')\n",
    "with open(file_path + 'temp_sound.mp3' ,'wb') as f:\n",
    "    tts_en.write_to_fp(f)\n",
    "    tts_kr.write_to_fp(f)\n",
    "\n",
    "playsound(file_path + 'temp_sound.mp3', True)"
   ]
  },
  {
   "cell_type": "code",
   "execution_count": 36,
   "metadata": {},
   "outputs": [
    {
     "name": "stdout",
     "output_type": "stream",
     "text": [
      "True\n"
     ]
    }
   ],
   "source": [
    "import os\n",
    "from playsound import playsound\n",
    "\n",
    "file_path = os.getcwd() + '/voicefiles/'\n",
    "text_en = 'mission'\n",
    "# pathis = os.getcwd() + '/voicefiles' + '/require.mp3'\n",
    "\n",
    "print(os.path.isfile(file_path + text_en+'.mp3'))"
   ]
  },
  {
   "cell_type": "code",
   "execution_count": 11,
   "metadata": {
    "scrolled": true
   },
   "outputs": [
    {
     "name": "stdout",
     "output_type": "stream",
     "text": [
      "[1, 2]\n",
      "[3, 4]\n"
     ]
    }
   ],
   "source": [
    "note = []\n",
    "\n",
    "note.append(1)\n",
    "note.append(2)\n",
    "print(note)\n",
    "note.clear()\n",
    "note.append(3)\n",
    "note.append(4)\n",
    "print(note)"
   ]
  },
  {
   "cell_type": "code",
   "execution_count": 14,
   "metadata": {},
   "outputs": [],
   "source": [
    "import tkinter\n",
    "\n",
    "window=tkinter.Tk()\n",
    "window.title(\"YUN DAE HEE\")\n",
    "window.geometry(\"640x400+100+100\")\n",
    "window.resizable(False, False)\n",
    "\n",
    "message=tkinter.Message(window, text=\"메세지입니다.\", width=100)\n",
    "message.pack()\n",
    "\n",
    "window.mainloop()"
   ]
  },
  {
   "cell_type": "code",
   "execution_count": 20,
   "metadata": {},
   "outputs": [],
   "source": [
    "import tkinter as tk\n",
    "\n",
    "root= tk.Tk()\n",
    "\n",
    "root.title(\"wm min/max\")\n",
    "# this removes the maximize button\n",
    "# root.resizable(0,0)\n",
    "\n",
    "# # if on MS Windows, this might do the trick,\n",
    "# # but I wouldn't know:\n",
    "# root.attributes(toolwindow=1)\n",
    "\n",
    "# # for no window manager decorations at all:\n",
    "# root.overrideredirect(1)\n",
    "# # useful for something like a splash screen\n",
    "\n",
    "root.mainloop()"
   ]
  },
  {
   "cell_type": "code",
   "execution_count": 33,
   "metadata": {
    "scrolled": true
   },
   "outputs": [
    {
     "name": "stdout",
     "output_type": "stream",
     "text": [
      "[0, 1, 2, 3, 4, 5, 6, 7, 8, 9, 10, 11, 12, 13, 14, 15, 16, 17, 18, 19, 20, 21, 22, 24, 25, 26, 27, 28, 29, 30, 31, 32, 33, 34, 35, 36, 37, 38, 39, 40, 41, 42, 43, 44, 45, 46, 47, 48, 49, 50]\n"
     ]
    }
   ],
   "source": [
    "from random import sample\n",
    "\n",
    "lst = sorted(sample(range(0, 51), 50))  # range(0, 50) 은 0 ~ 49 를 내보낸다.\n",
    "print(lst)"
   ]
  },
  {
   "cell_type": "code",
   "execution_count": 12,
   "metadata": {},
   "outputs": [],
   "source": [
    "import tkinter\n",
    "\n",
    "window=tkinter.Tk()\n",
    "window.title(\"YUN DAE HEE\")\n",
    "window.geometry(\"640x400+100+100\")\n",
    "window.resizable(False, False)\n",
    "\n",
    "menubar=tkinter.Menu(window)\n",
    "\n",
    "menu_1=tkinter.Menu(menubar, tearoff=0)\n",
    "menu_1.add_command(label=\"하위 메뉴 1-1\")\n",
    "menu_1.add_command(label=\"하위 메뉴 1-2\")\n",
    "menu_1.add_separator()\n",
    "menu_1.add_command(label=\"하위 메뉴 1-3\")\n",
    "menubar.add_cascade(label=\"상위 메뉴 1\", menu=menu_1)\n",
    "\n",
    "toplevel=tkinter.Toplevel(window, menu=menubar)\n",
    "toplevel.geometry(\"320x200+820+100\")\n",
    "\n",
    "label=tkinter.Label(toplevel, text=\"YUN DAE HEE\")\n",
    "label.pack()\n",
    "\n",
    "window.mainloop()"
   ]
  },
  {
   "cell_type": "code",
   "execution_count": 13,
   "metadata": {},
   "outputs": [],
   "source": [
    "import tkinter as tk\n",
    "\n",
    "def create_window():\n",
    "    window = tk.Toplevel(root)\n",
    "\n",
    "root = tk.Tk()\n",
    "b = tk.Button(root, text=\"Create new window\", command=create_window)\n",
    "b.pack()\n",
    "\n",
    "root.mainloop()"
   ]
  },
  {
   "cell_type": "code",
   "execution_count": 22,
   "metadata": {},
   "outputs": [
    {
     "name": "stdout",
     "output_type": "stream",
     "text": [
      "['\\n', '3', 'e', '8', 'b']\n",
      "b38e\n",
      "\n"
     ]
    }
   ],
   "source": [
    "# lst = [['b'], '_', '_', ['e'], ['\\n']]\n",
    "from random import sample\n",
    "\n",
    "lst = ['b', '3', '8', 'e', '\\n']\n",
    "\n",
    "\n",
    "print(sample(lst, 5))\n",
    "\n",
    "strr = ''.join(lst)\n",
    "print(strr)"
   ]
  },
  {
   "cell_type": "code",
   "execution_count": 1,
   "metadata": {},
   "outputs": [],
   "source": [
    "import tkinter\n",
    "\n",
    "window=tkinter.Tk()\n",
    "window.title(\"YUN DAE HEE\")\n",
    "window.geometry(\"640x480+100+100\")\n",
    "window.resizable(False, False)\n",
    "\n",
    "def flash():\n",
    "    checkbutton1.flash()\n",
    "\n",
    "CheckVariety_1=tkinter.IntVar()\n",
    "CheckVariety_2=tkinter.IntVar()\n",
    "\n",
    "checkbutton1=tkinter.Checkbutton(window, text=\"O\", variable=CheckVariety_1, activebackground=\"blue\")\n",
    "checkbutton2=tkinter.Checkbutton(window, text=\"△\", variable=CheckVariety_2)\n",
    "checkbutton3=tkinter.Checkbutton(window, text=\"X\", variable=CheckVariety_2, command=flash)\n",
    "\n",
    "checkbutton1.pack()\n",
    "checkbutton2.pack()\n",
    "checkbutton3.pack()\n",
    "\n",
    "window.mainloop()\n"
   ]
  },
  {
   "cell_type": "code",
   "execution_count": 2,
   "metadata": {},
   "outputs": [
    {
     "name": "stdout",
     "output_type": "stream",
     "text": [
      "안녕\n",
      "1\n",
      "안녕\n",
      "0\n"
     ]
    }
   ],
   "source": [
    "import tkinter as Tkinter\n",
    "\n",
    "def hi():\n",
    "    print(\"안녕\")\n",
    "    print(var.get())\n",
    "\n",
    "root = Tkinter.Tk()\n",
    "var = Tkinter.IntVar()\n",
    "chk = Tkinter.Checkbutton(root, text='foo', variable=var, command = hi)\n",
    "chk.pack(side=Tkinter.LEFT)\n",
    "\n",
    "\n",
    "\n",
    "root.mainloop()"
   ]
  },
  {
   "cell_type": "code",
   "execution_count": 77,
   "metadata": {},
   "outputs": [
    {
     "name": "stdout",
     "output_type": "stream",
     "text": [
      "PY_VAR18\n",
      "1\n",
      "0\n",
      "1\n",
      "0\n"
     ]
    }
   ],
   "source": [
    "import tkinter\n",
    "\n",
    "window=tkinter.Tk()\n",
    "window.title(\"YUN DAE HEE\")\n",
    "window.geometry(\"640x480+100+100\")\n",
    "window.resizable(False, False)\n",
    "\n",
    "def flash():\n",
    "    print(var.get())\n",
    "    \n",
    "var=tkinter.IntVar()\n",
    "\n",
    "checkbutton1=tkinter.Checkbutton(window, text=\"O\", variable = var, command = flash)\n",
    "print(CheckVariety_1)\n",
    "\n",
    "checkbutton1.pack()\n",
    "\n",
    "window.mainloop()"
   ]
  },
  {
   "cell_type": "code",
   "execution_count": 10,
   "metadata": {},
   "outputs": [
    {
     "name": "stdout",
     "output_type": "stream",
     "text": [
      "['g', '_', '_', '_', '_', '_', 'e']\n"
     ]
    }
   ],
   "source": [
    "# 영어 흰트주기\n",
    "\n",
    "def english_hint(spelling):\n",
    "    hint = []\n",
    "    for w in list(spelling):\n",
    "        hint.append(w)\n",
    "    \n",
    "    for i in range(1, len(spelling) - 1):\n",
    "        hint[i] = '_'\n",
    "    return hint\n",
    "    \n",
    "    \n",
    "    \n",
    "spelling = 'goodbye'\n",
    "\n",
    "hint = english_hint(spelling)\n",
    "print(hint)"
   ]
  },
  {
   "cell_type": "code",
   "execution_count": 11,
   "metadata": {},
   "outputs": [
    {
     "name": "stdout",
     "output_type": "stream",
     "text": [
      "['ㅇ', 'ㅇ', 'ㄹ', 'ㄴ', 'ㅇ', 'd', 'f', 's', 'd', 'f']\n"
     ]
    }
   ],
   "source": [
    "# 초성만 띠어내기\n",
    "\n",
    "CHOSUNG_LIST = ['ㄱ', 'ㄲ', 'ㄴ', 'ㄷ', 'ㄸ', 'ㄹ', 'ㅁ', 'ㅂ', 'ㅃ', 'ㅅ', 'ㅆ', 'ㅇ', 'ㅈ', 'ㅉ', 'ㅊ', 'ㅋ', 'ㅌ', 'ㅍ', 'ㅎ']\n",
    "\n",
    "def korean_to_be_englished(korean_word):\n",
    "    r_list = []\n",
    "    for w in list(korean_word.strip()):\n",
    "        if '가' <= w <= '힣':\n",
    "            ch1 = (ord(w) - ord('가')) // 588\n",
    "            \n",
    "            r_list.append(CHOSUNG_LIST[ch1])\n",
    "        else:\n",
    "            r_list.append(w)\n",
    "    return r_list\n",
    "\n",
    "hint = korean_to_be_englished('야이런놈아dfsdf')\n",
    "print(hint)\n",
    "    "
   ]
  },
  {
   "cell_type": "code",
   "execution_count": 8,
   "metadata": {},
   "outputs": [],
   "source": [
    "from gtts import gTTS\n",
    "\n",
    "text = 'Love always ends'\n",
    "tts_en = gTTS(text=text, lang='en')\n",
    "tts_kr = gTTS(text='사랑은 항상 끝나버린다', lang='ko')\n",
    "tts_en.save(\"Love always ends.mp3\")\n",
    "f = open('Love always ends.mp3', 'wb')\n",
    "tts_en.write_to_fp(f)\n",
    "tts_kr.write_to_fp(f)\n",
    "f.close()"
   ]
  },
  {
   "cell_type": "code",
   "execution_count": 11,
   "metadata": {},
   "outputs": [],
   "source": [
    "from gtts import gTTS\n",
    "text_en = 'internet'\n",
    "text_kor = '인터넷'\n",
    "tts_en = gTTS(text=text_en, lang='en')\n",
    "tts_kr = gTTS(text=str(text_kor), lang='ko')\n",
    "tts_en.save(text_en + \".mp3\")\n",
    "f = open(text_en+'.mp3', 'wb')\n",
    "tts_en.write_to_fp(f)\n",
    "tts_kr.write_to_fp(f)\n",
    "f.close()"
   ]
  },
  {
   "cell_type": "code",
   "execution_count": 6,
   "metadata": {},
   "outputs": [],
   "source": [
    "from tkinter import *\n",
    "\n",
    "root = Tk() \n",
    "root.title(\"app\")\n",
    "screen_width = root.winfo_screenwidth()\n",
    "screen_height = root.winfo_screenheight()\n",
    "root.geometry(\"550x250+%d+%d\" % (screen_width/2-275, screen_height/2-125))\n",
    "root.configure(background='gold')\n",
    "root.lift()\n",
    "\n",
    "mainloop()"
   ]
  },
  {
   "cell_type": "code",
   "execution_count": 5,
   "metadata": {},
   "outputs": [],
   "source": [
    "import tkinter\n",
    "\n",
    "window=tkinter.Tk()\n",
    "window.title(\"YUN DAE HEE\")\n",
    "window.geometry(\"640x480+100+100\")\n",
    "window.resizable(False, False)\n",
    "\n",
    "def check():\n",
    "    label.config(text= \"RadioVariety_1 = \" + str(RadioVariety_1.get()) + \"\\n\" +\n",
    "                       \"RadioVariety_2 = \" + str(RadioVariety_2.get()) + \"\\n\\n\" +\n",
    "                       \"Total = \"          + str(RadioVariety_1.get() + RadioVariety_2.get()))\n",
    "\n",
    "RadioVariety_1=tkinter.IntVar()\n",
    "RadioVariety_2=tkinter.IntVar()\n",
    "\n",
    "radio1=tkinter.Radiobutton(window, text=\"1번\", value=3, variable=RadioVariety_1, command=check)\n",
    "radio1.pack()\n",
    "\n",
    "radio2=tkinter.Radiobutton(window, text=\"2번(1번)\", value=3, variable=RadioVariety_1, command=check)\n",
    "radio2.pack()\n",
    "\n",
    "radio3=tkinter.Radiobutton(window, text=\"3번\", value=9, variable=RadioVariety_1, command=check)\n",
    "radio3.pack()\n",
    "\n",
    "label=tkinter.Label(window, text=\"None\", height=5)\n",
    "label.pack()\n",
    "\n",
    "radio4=tkinter.Radiobutton(window, text=\"4번\", value=12, variable=RadioVariety_2, command=check)\n",
    "radio4.pack()\n",
    "\n",
    "radio5=tkinter.Radiobutton(window, text=\"5번\", value=15, variable=RadioVariety_2, command=check)\n",
    "radio5.pack()\n",
    "\n",
    "window.mainloop()"
   ]
  }
 ],
 "metadata": {
  "kernelspec": {
   "display_name": "Python 3",
   "language": "python",
   "name": "python3"
  },
  "language_info": {
   "codemirror_mode": {
    "name": "ipython",
    "version": 3
   },
   "file_extension": ".py",
   "mimetype": "text/x-python",
   "name": "python",
   "nbconvert_exporter": "python",
   "pygments_lexer": "ipython3",
   "version": "3.7.5"
  }
 },
 "nbformat": 4,
 "nbformat_minor": 2
}
