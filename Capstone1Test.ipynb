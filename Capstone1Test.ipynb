{
 "cells": [
  {
   "cell_type": "code",
   "execution_count": 2,
   "metadata": {},
   "outputs": [],
   "source": [
    "try:\n",
    "    import Tkinter\n",
    "except:\n",
    "    import tkinter\n",
    "import tkinter.messagebox\n",
    "import time"
   ]
  },
  {
   "cell_type": "code",
   "execution_count": 3,
   "metadata": {},
   "outputs": [
    {
     "data": {
      "text/plain": [
       "''"
      ]
     },
     "execution_count": 3,
     "metadata": {},
     "output_type": "execute_result"
    }
   ],
   "source": [
    "window=tkinter.Tk()\n",
    "\n",
    "window.title(\"Helper\")    # 제목\n",
    "window.geometry(\"300x200+1550+50\")   # 창 크기 (너비x높이+x좌표+y좌표)\n",
    "window.resizable(False, False)   # 창 크기 조절 여부"
   ]
  },
  {
   "cell_type": "code",
   "execution_count": 4,
   "metadata": {},
   "outputs": [],
   "source": [
    "# 변수 선언.\n",
    "meaning = ''\n",
    "spelling = ''"
   ]
  },
  {
   "cell_type": "code",
   "execution_count": 5,
   "metadata": {},
   "outputs": [],
   "source": [
    "############################################:: Entry에 의해 실행되는 함수 ::###########################################  \n",
    "def save_mean(enter_value):   # 뜻을 입력받고 meaning 에 저장  # word_mean_enter Entry와 엮여있다.\n",
    "    global meaning\n",
    "    meaning = tkinter.Entry.get(word_mean_enter)\n",
    "    check_mean.config(text='입력한 뜻 : ' + meaning)\n",
    "    print(meaning)\n",
    "    save_word.config(text = '저장')\n",
    "\n",
    "    \n",
    "def save_spelling(enter_value):   # 스펠링을 입력받고 meaning 에 저장  # word_spelling_enter Entry와 엮여있다.\n",
    "    global spelling\n",
    "    spelling = tkinter.Entry.get(word_spelling_enter)\n",
    "    check_spelling.config(text='입력한 스펠링 : ' + spelling)\n",
    "    print(spelling)\n",
    "    save_word.config(text = '저장')\n",
    "\n",
    "###########################################:: Entry에 의해 실행되는 함수 ::############################################  \n",
    "\n",
    "\n",
    "\n",
    "###########################################:: Button에 의해 실행되는 함수 ::############################################  \n",
    "def save_to_txt():\n",
    "    if meaning == '' or spelling == '':\n",
    "        #tkinter.messagebox.showwarning('알림','뜻과 스펠링을 전부 입력해주세요.') #얘는 메세지 박스 띄우는 애.\n",
    "        save_word.config(text = '뜻과 스펠링을 전부 입력해주세요.')\n",
    "    else:        \n",
    "        f = open(\"C:/Users/HK/Capstone1/Words.txt\", 'a')\n",
    "        f.write(meaning + ' ' + spelling + '\\n')\n",
    "        f.close()\n",
    "        save_word.config(text = '저장 완료')\n",
    "        word_mean_enter.delete(0, tkinter.END)\n",
    "        word_spelling_enter.delete(0, tkinter.END)\n",
    "        check_mean.config(text = \"입력한 뜻 : \")\n",
    "        check_spelling.config(text = \"입력한 스펠링 : \")\n",
    "        \n",
    "###########################################:: Button에 의해 실행되는 함수 ::############################################  "
   ]
  },
  {
   "cell_type": "code",
   "execution_count": 6,
   "metadata": {},
   "outputs": [],
   "source": [
    "#################################################:: Entry 생성 ::#################################################\n",
    "word_mean_enter = tkinter.Entry(window)\n",
    "word_mean_enter.bind(\"<Return>\", save_mean)\n",
    "word_mean_enter.place(x=100, y=45) \n",
    "\n",
    "word_spelling_enter = tkinter.Entry(window)\n",
    "word_spelling_enter.bind(\"<Return>\", save_spelling)\n",
    "word_spelling_enter.place(x=100, y=95) \n",
    "#################################################:: Entry 생성 ::#################################################  "
   ]
  },
  {
   "cell_type": "code",
   "execution_count": 7,
   "metadata": {},
   "outputs": [],
   "source": [
    "#################################################:: Label 생성 ::#################################################\n",
    "enter_new_word = tkinter.Label(window, text = \"단어의 뜻과 스펠링을 입력하세요.\")\n",
    "enter_new_word.place(x=60, y=10)\n",
    "\n",
    "word_mean = tkinter.Label(window, text = \"한글뜻 : \", anchor = 'e')\n",
    "word_mean.place(x=30, y=45, width=65)\n",
    "\n",
    "check_mean = tkinter.Label(window, text = \"입력한 뜻 : \")\n",
    "check_mean.place(x=90, y=70)\n",
    "\n",
    "word_spelling = tkinter.Label(window, text = \"스펠링 : \",  anchor = 'e')\n",
    "word_spelling.place(x=30, y=95, width=65)\n",
    "\n",
    "check_spelling = tkinter.Label(window, text = \"입력한 스펠링 : \")\n",
    "check_spelling.place(x=90, y=120)\n",
    "#################################################:: Label 생성 ::#################################################"
   ]
  },
  {
   "cell_type": "code",
   "execution_count": 8,
   "metadata": {},
   "outputs": [],
   "source": [
    "#################################################:: Button 생성 ::#################################################\n",
    "save_word = tkinter.Button(window, command = save_to_txt, text = '저장', anchor = 'center')\n",
    "save_word.place(x=50, y=150, width=200)\n",
    "#################################################:: Button 생성 ::#################################################"
   ]
  },
  {
   "cell_type": "code",
   "execution_count": 9,
   "metadata": {},
   "outputs": [],
   "source": [
    "window.mainloop()"
   ]
  },
  {
   "cell_type": "code",
   "execution_count": null,
   "metadata": {},
   "outputs": [],
   "source": []
  },
  {
   "cell_type": "code",
   "execution_count": null,
   "metadata": {},
   "outputs": [],
   "source": []
  },
  {
   "cell_type": "code",
   "execution_count": null,
   "metadata": {},
   "outputs": [],
   "source": []
  }
 ],
 "metadata": {
  "kernelspec": {
   "display_name": "Python 3",
   "language": "python",
   "name": "python3"
  },
  "language_info": {
   "codemirror_mode": {
    "name": "ipython",
    "version": 3
   },
   "file_extension": ".py",
   "mimetype": "text/x-python",
   "name": "python",
   "nbconvert_exporter": "python",
   "pygments_lexer": "ipython3",
   "version": "3.7.5"
  }
 },
 "nbformat": 4,
 "nbformat_minor": 2
}
