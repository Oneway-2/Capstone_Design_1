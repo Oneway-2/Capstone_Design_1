{
 "cells": [
  {
   "cell_type": "code",
   "execution_count": 2,
   "metadata": {},
   "outputs": [
    {
     "name": "stdout",
     "output_type": "stream",
     "text": [
      "pygame 1.9.6\n",
      "Hello from the pygame community. https://www.pygame.org/contribute.html\n"
     ]
    }
   ],
   "source": [
    "from PIL import Image\n",
    "from PIL import ImageGrab\n",
    "from pytesseract import * # tesseract 응용 프로그램 설치 필요\n",
    "pytesseract.tesseract_cmd = r'C:\\Program Files\\Tesseract-OCR\\tesseract'\n",
    "# anaconda prompt 에 pip install pytesseract\n",
    "import configparser\n",
    "import os\n",
    "import sys\n",
    "import requests, bs4, time\n",
    "import random\n",
    "from gtts import gTTS    #gTTS install 필요\n",
    "from pygame import mixer  # pygame install 필요\n",
    "import playsound    #playsound install 필요\n"
   ]
  },
  {
   "cell_type": "code",
   "execution_count": 3,
   "metadata": {},
   "outputs": [
    {
     "name": "stdout",
     "output_type": "stream",
     "text": [
      "random string :  pythor 왕뱀\n"
     ]
    },
    {
     "ename": "UnicodeDecodeError",
     "evalue": "'utf-8' codec can't decode byte 0xc1 in position 0: invalid start byte",
     "output_type": "error",
     "traceback": [
      "\u001b[1;31m---------------------------------------------------------------------------\u001b[0m",
      "\u001b[1;31mUnicodeDecodeError\u001b[0m                        Traceback (most recent call last)",
      "\u001b[1;32m<ipython-input-3-30dbdc57d4d9>\u001b[0m in \u001b[0;36m<module>\u001b[1;34m\u001b[0m\n\u001b[0;32m     75\u001b[0m \u001b[1;33m\u001b[0m\u001b[0m\n\u001b[0;32m     76\u001b[0m \u001b[1;33m\u001b[0m\u001b[0m\n\u001b[1;32m---> 77\u001b[1;33m     \u001b[0mplaysound\u001b[0m\u001b[1;33m.\u001b[0m\u001b[0mplaysound\u001b[0m\u001b[1;33m(\u001b[0m\u001b[1;34m'C:/Users/HK/Capstone1'\u001b[0m \u001b[1;33m+\u001b[0m \u001b[0mtext_en\u001b[0m \u001b[1;33m+\u001b[0m \u001b[1;34m'.mp3'\u001b[0m\u001b[1;33m,\u001b[0m \u001b[1;32mTrue\u001b[0m\u001b[1;33m)\u001b[0m\u001b[1;33m\u001b[0m\u001b[1;33m\u001b[0m\u001b[0m\n\u001b[0m\u001b[0;32m     78\u001b[0m \u001b[1;33m\u001b[0m\u001b[0m\n\u001b[0;32m     79\u001b[0m     \u001b[0mos\u001b[0m\u001b[1;33m.\u001b[0m\u001b[0mremove\u001b[0m\u001b[1;33m(\u001b[0m\u001b[1;34mr'C:/Users/HK/Capstone1'\u001b[0m\u001b[1;33m+\u001b[0m \u001b[0mtext_en\u001b[0m \u001b[1;33m+\u001b[0m \u001b[1;34m'.mp3'\u001b[0m\u001b[1;33m)\u001b[0m\u001b[1;33m\u001b[0m\u001b[1;33m\u001b[0m\u001b[0m\n",
      "\u001b[1;32m~\\Anaconda3\\lib\\site-packages\\playsound.py\u001b[0m in \u001b[0;36m_playsoundWin\u001b[1;34m(sound, block)\u001b[0m\n\u001b[0;32m     33\u001b[0m \u001b[1;33m\u001b[0m\u001b[0m\n\u001b[0;32m     34\u001b[0m     \u001b[0malias\u001b[0m \u001b[1;33m=\u001b[0m \u001b[1;34m'playsound_'\u001b[0m \u001b[1;33m+\u001b[0m \u001b[0mstr\u001b[0m\u001b[1;33m(\u001b[0m\u001b[0mrandom\u001b[0m\u001b[1;33m(\u001b[0m\u001b[1;33m)\u001b[0m\u001b[1;33m)\u001b[0m\u001b[1;33m\u001b[0m\u001b[1;33m\u001b[0m\u001b[0m\n\u001b[1;32m---> 35\u001b[1;33m     \u001b[0mwinCommand\u001b[0m\u001b[1;33m(\u001b[0m\u001b[1;34m'open \"'\u001b[0m \u001b[1;33m+\u001b[0m \u001b[0msound\u001b[0m \u001b[1;33m+\u001b[0m \u001b[1;34m'\" alias'\u001b[0m\u001b[1;33m,\u001b[0m \u001b[0malias\u001b[0m\u001b[1;33m)\u001b[0m\u001b[1;33m\u001b[0m\u001b[1;33m\u001b[0m\u001b[0m\n\u001b[0m\u001b[0;32m     36\u001b[0m     \u001b[0mwinCommand\u001b[0m\u001b[1;33m(\u001b[0m\u001b[1;34m'set'\u001b[0m\u001b[1;33m,\u001b[0m \u001b[0malias\u001b[0m\u001b[1;33m,\u001b[0m \u001b[1;34m'time format milliseconds'\u001b[0m\u001b[1;33m)\u001b[0m\u001b[1;33m\u001b[0m\u001b[1;33m\u001b[0m\u001b[0m\n\u001b[0;32m     37\u001b[0m     \u001b[0mdurationInMS\u001b[0m \u001b[1;33m=\u001b[0m \u001b[0mwinCommand\u001b[0m\u001b[1;33m(\u001b[0m\u001b[1;34m'status'\u001b[0m\u001b[1;33m,\u001b[0m \u001b[0malias\u001b[0m\u001b[1;33m,\u001b[0m \u001b[1;34m'length'\u001b[0m\u001b[1;33m)\u001b[0m\u001b[1;33m\u001b[0m\u001b[1;33m\u001b[0m\u001b[0m\n",
      "\u001b[1;32m~\\Anaconda3\\lib\\site-packages\\playsound.py\u001b[0m in \u001b[0;36mwinCommand\u001b[1;34m(*command)\u001b[0m\n\u001b[0;32m     28\u001b[0m             exceptionMessage = ('\\n    Error ' + str(errorCode) + ' for command:'\n\u001b[0;32m     29\u001b[0m                                 \u001b[1;34m'\\n        '\u001b[0m \u001b[1;33m+\u001b[0m \u001b[0mcommand\u001b[0m\u001b[1;33m.\u001b[0m\u001b[0mdecode\u001b[0m\u001b[1;33m(\u001b[0m\u001b[1;33m)\u001b[0m \u001b[1;33m+\u001b[0m\u001b[1;33m\u001b[0m\u001b[1;33m\u001b[0m\u001b[0m\n\u001b[1;32m---> 30\u001b[1;33m                                 '\\n    ' + errorBuffer.value.decode())\n\u001b[0m\u001b[0;32m     31\u001b[0m             \u001b[1;32mraise\u001b[0m \u001b[0mPlaysoundException\u001b[0m\u001b[1;33m(\u001b[0m\u001b[0mexceptionMessage\u001b[0m\u001b[1;33m)\u001b[0m\u001b[1;33m\u001b[0m\u001b[1;33m\u001b[0m\u001b[0m\n\u001b[0;32m     32\u001b[0m         \u001b[1;32mreturn\u001b[0m \u001b[0mbuf\u001b[0m\u001b[1;33m.\u001b[0m\u001b[0mvalue\u001b[0m\u001b[1;33m\u001b[0m\u001b[1;33m\u001b[0m\u001b[0m\n",
      "\u001b[1;31mUnicodeDecodeError\u001b[0m: 'utf-8' codec can't decode byte 0xc1 in position 0: invalid start byte"
     ]
    }
   ],
   "source": [
    "\n",
    "# 화면 캡쳐 후 영단어 추출\n",
    "def capture():\n",
    "    img=ImageGrab.grab()\n",
    "    saveas=\"{}{}\".format('img','.png')\n",
    "    img.save(saveas)\n",
    "\n",
    "    config = configparser.ConfigParser()\n",
    "    config.read(os.path.dirname(os.path.realpath('__file__')) + os.sep + 'property.ini')\n",
    "\n",
    "    img = Image.open('img.png')\n",
    "\n",
    "    outText = image_to_string(img, lang='eng', config='--psm 1 -c preserve_interword_spaces=1')\n",
    "    with open('img_to_text.txt', 'w', encoding='utf-8') as f:\n",
    "            f.write(outText)\n",
    "\n",
    "    with open('img_to_text.txt', 'rt', encoding='UTF8') as f:\n",
    "        lines = f.readlines()\n",
    "    \n",
    "\n",
    "    with open('sorted_text.txt', 'w', encoding='UTF8') as f:\n",
    "        for line in lines :\n",
    "            t = line.strip().split(' ')\n",
    "            for tt in t :\n",
    "                if(tt != '') :\n",
    "                    f.write(tt + '₩n')\n",
    "                    \n",
    "# 다음 사전 크롤링으로 한글 뜻 가져오기\n",
    "def getDaumDic(word):\n",
    "    headers = {\n",
    "        'User-Agent': 'Mozilla/5.0 (Windows NT 10.0; Win64; x64) AppleWebKit/537.36 (KHTML, like Gecko) Chrome/81.0.4044.138 Safari/537.36'}\n",
    "    url = 'https://dic.daum.net/search.do?q={}'.format(word)\n",
    "    res = requests.get(url, headers=headers)\n",
    "    soup = bs4.BeautifulSoup(res.text, \"html.parser\")\n",
    "    tag = soup.find(\"ul\", class_=\"list_search\")\n",
    "    try:\n",
    "\n",
    "        tag = tag.find(\"span\", class_=\"txt_search\")\n",
    "        text = ' '.join(tag.getText().split()).replace('\\n', '')\n",
    "    except:\n",
    "        text = \"None\"\n",
    "    return text\n",
    "\n",
    "# 두 함수 적용 후 mp3 파일 생성, 재생 완료시 삭제\n",
    "if __name__ == \"__main__\":\n",
    "    capture()\n",
    "    with open(\"sorted_text.txt\", \"rt\", encoding=\"UTF8\") as fr:\n",
    "        allWords = fr.read()\n",
    "    allWords = allWords.split(\"₩n\")\n",
    "\n",
    "    with open(\"newwords.txt\", \"w\", encoding='utf-8') as fw:\n",
    "        i = 0\n",
    "        for word in allWords:\n",
    "            i += 1\n",
    "            result = getDaumDic(word)\n",
    "            if result == \"None\" or len(word) < 2:\n",
    "                continue\n",
    "            fw.write(word + \" \" + result + \"\\n\")\n",
    "            if i > 30:\n",
    "                break\n",
    "    with open('newwords.txt','rt', encoding='utf-8') as f:\n",
    "        randomLine = random.choice(list(f.readlines())).splitlines()[0]\n",
    "        print('random string : ',randomLine)\n",
    "    \n",
    "    none_text = 'There are no words in memory'\n",
    "    tts = gTTS(text=none_text, lang='en')\n",
    "    text = randomLine.split()\n",
    "    text_en = text[0]\n",
    "    text_kor = text[1]\n",
    "    tts_en = gTTS(text=text[0], lang='en')\n",
    "    tts_kr = gTTS(text=str(text[1:]), lang='ko')\n",
    "    tts.save(text_en + \".mp3\")\n",
    "    with open(text_en + \".mp3\",'wb') as f:\n",
    "        tts_en.write_to_fp(f)\n",
    "        tts_kr.write_to_fp(f)\n",
    "    \n",
    "    \n",
    "    playsound.playsound('C:/Users/HK/Capstone1' + text_en + '.mp3', True)\n",
    "    \n",
    "    os.remove(r'C:/Users/HK/Capstone1'+ text_en + '.mp3')\n"
   ]
  },
  {
   "cell_type": "code",
   "execution_count": null,
   "metadata": {},
   "outputs": [],
   "source": []
  }
 ],
 "metadata": {
  "kernelspec": {
   "display_name": "Python 3",
   "language": "python",
   "name": "python3"
  },
  "language_info": {
   "codemirror_mode": {
    "name": "ipython",
    "version": 3
   },
   "file_extension": ".py",
   "mimetype": "text/x-python",
   "name": "python",
   "nbconvert_exporter": "python",
   "pygments_lexer": "ipython3",
   "version": "3.7.5"
  }
 },
 "nbformat": 4,
 "nbformat_minor": 2
}
