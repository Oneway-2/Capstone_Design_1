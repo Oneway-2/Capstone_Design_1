{
 "cells": [
  {
   "cell_type": "code",
   "execution_count": 1,
   "metadata": {},
   "outputs": [
    {
     "name": "stdout",
     "output_type": "stream",
     "text": [
      "pygame 1.9.6\n",
      "Hello from the pygame community. https://www.pygame.org/contribute.html\n"
     ]
    }
   ],
   "source": [
    "from PIL import Image\n",
    "from PIL import ImageGrab\n",
    "from pytesseract import * # tesseract 응용 프로그램 설치 필요\n",
    "pytesseract.tesseract_cmd = r'C:\\Program Files\\Tesseract-OCR\\tesseract'\n",
    "# anaconda prompt 에 pip install pytesseract\n",
    "import configparser\n",
    "import os\n",
    "import sys\n",
    "import requests, bs4, time\n",
    "import random\n",
    "from gtts import gTTS    #gTTS install 필요\n",
    "from pygame import mixer  # pygame install 필요\n",
    "import playsound    #playsound install 필요"
   ]
  },
  {
   "cell_type": "code",
   "execution_count": 2,
   "metadata": {},
   "outputs": [],
   "source": [
    "def capture():\n",
    "    img=ImageGrab.grab()\n",
    "    saveas=\"{}{}\".format('img','.png')\n",
    "    img.save(saveas)\n",
    "\n",
    "    config = configparser.ConfigParser()\n",
    "    config.read(os.path.dirname(os.path.realpath('__file__')) + os.sep + 'property.ini')\n",
    "\n",
    "    img = Image.open('img.png')\n",
    "\n",
    "    outText = image_to_string(img, lang='eng', config='--psm 1 -c preserve_interword_spaces=1')\n",
    "    with open('img_to_text.txt', 'w', encoding='utf-8') as f:\n",
    "        f.write(outText)\n",
    "\n",
    "    with open('img_to_text.txt', 'rt', encoding='UTF8') as f:\n",
    "        lines = f.readlines()\n",
    "    \n",
    "\n",
    "    with open('sorted_text.txt', 'w', encoding='UTF8') as f:\n",
    "        for line in lines :\n",
    "            t = line.strip().split(' ')\n",
    "            for tt in t :\n",
    "                if(tt != '') :\n",
    "                    f.write(tt + '₩n')\n",
    "                    \n",
    "capture()"
   ]
  },
  {
   "cell_type": "code",
   "execution_count": 4,
   "metadata": {},
   "outputs": [
    {
     "ename": "TypeError",
     "evalue": "dirname() missing 1 required positional argument: 'p'",
     "output_type": "error",
     "traceback": [
      "\u001b[1;31m---------------------------------------------------------------------------\u001b[0m",
      "\u001b[1;31mTypeError\u001b[0m                                 Traceback (most recent call last)",
      "\u001b[1;32m<ipython-input-4-366e5669476a>\u001b[0m in \u001b[0;36m<module>\u001b[1;34m\u001b[0m\n\u001b[1;32m----> 1\u001b[1;33m \u001b[0mos\u001b[0m\u001b[1;33m.\u001b[0m\u001b[0mpath\u001b[0m\u001b[1;33m.\u001b[0m\u001b[0mdirname\u001b[0m\u001b[1;33m(\u001b[0m\u001b[1;33m)\u001b[0m\u001b[1;33m\u001b[0m\u001b[1;33m\u001b[0m\u001b[0m\n\u001b[0m",
      "\u001b[1;31mTypeError\u001b[0m: dirname() missing 1 required positional argument: 'p'"
     ]
    }
   ],
   "source": [
    "os.path.dirname()"
   ]
  },
  {
   "cell_type": "code",
   "execution_count": null,
   "metadata": {},
   "outputs": [],
   "source": []
  }
 ],
 "metadata": {
  "kernelspec": {
   "display_name": "Python 3",
   "language": "python",
   "name": "python3"
  },
  "language_info": {
   "codemirror_mode": {
    "name": "ipython",
    "version": 3
   },
   "file_extension": ".py",
   "mimetype": "text/x-python",
   "name": "python",
   "nbconvert_exporter": "python",
   "pygments_lexer": "ipython3",
   "version": "3.7.5"
  }
 },
 "nbformat": 4,
 "nbformat_minor": 2
}
