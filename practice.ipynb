{
 "cells": [
  {
   "cell_type": "code",
   "execution_count": 31,
   "metadata": {},
   "outputs": [
    {
     "name": "stdout",
     "output_type": "stream",
     "text": [
      "9\n",
      "[0, 1, 2, 3, 4, 5, 6, 7, 8]\n"
     ]
    }
   ],
   "source": [
    "import random\n",
    "# 만약 단어장 len이 51이야. 그럼 원소는 0~50 까지 있지?\n",
    "# 만약 단어장 len이 9야. 그럼 원소는 0~8까지 있지?\n",
    "lenn = [1,2,3,4,5,6,7,8,9] # 9개 있음.\n",
    "print(len(lenn))\n",
    "lenu = random.sample(range(0, len(lenn)), len(lenn))\n",
    "lenu=sorted(lenu)\n",
    "print(lenu)"
   ]
  },
  {
   "cell_type": "code",
   "execution_count": 7,
   "metadata": {},
   "outputs": [
    {
     "name": "stdout",
     "output_type": "stream",
     "text": [
      "일이삼사오육칠팔구십일이삼사오육칠팔구십\n",
      "일이삼사오육칠팔구십일이\n",
      "삼사오육칠팔구십\n"
     ]
    }
   ],
   "source": [
    "s = '일이삼사오육칠팔구십일이삼사오육칠팔구십'\n",
    "\n",
    "print(s)\n",
    "\n",
    "s = s[:12] + '\\n' + s[12:]\n",
    "\n",
    "print(s)"
   ]
  },
  {
   "cell_type": "code",
   "execution_count": 4,
   "metadata": {},
   "outputs": [
    {
     "name": "stdout",
     "output_type": "stream",
     "text": [
      "같은 파일이 있나요? :  False\n"
     ]
    },
    {
     "ename": "NameError",
     "evalue": "name 'text' is not defined",
     "output_type": "error",
     "traceback": [
      "\u001b[1;31m---------------------------------------------------------------------------\u001b[0m",
      "\u001b[1;31mNameError\u001b[0m                                 Traceback (most recent call last)",
      "\u001b[1;32m<ipython-input-4-3ba3aa90eabf>\u001b[0m in \u001b[0;36m<module>\u001b[1;34m\u001b[0m\n\u001b[0;32m     12\u001b[0m \u001b[0mnone_text\u001b[0m \u001b[1;33m=\u001b[0m \u001b[1;34m'There are no words in memory'\u001b[0m\u001b[1;33m\u001b[0m\u001b[1;33m\u001b[0m\u001b[0m\n\u001b[0;32m     13\u001b[0m \u001b[0mtts\u001b[0m \u001b[1;33m=\u001b[0m \u001b[0mgTTS\u001b[0m\u001b[1;33m(\u001b[0m\u001b[0mtext\u001b[0m\u001b[1;33m=\u001b[0m\u001b[0mnone_text\u001b[0m\u001b[1;33m,\u001b[0m \u001b[0mlang\u001b[0m\u001b[1;33m=\u001b[0m\u001b[1;34m'en'\u001b[0m\u001b[1;33m)\u001b[0m\u001b[1;33m\u001b[0m\u001b[1;33m\u001b[0m\u001b[0m\n\u001b[1;32m---> 14\u001b[1;33m \u001b[0mtext_en\u001b[0m \u001b[1;33m=\u001b[0m \u001b[0mtext\u001b[0m\u001b[1;33m[\u001b[0m\u001b[1;36m0\u001b[0m\u001b[1;33m]\u001b[0m\u001b[1;33m\u001b[0m\u001b[1;33m\u001b[0m\u001b[0m\n\u001b[0m\u001b[0;32m     15\u001b[0m \u001b[0mtext_kr\u001b[0m \u001b[1;33m=\u001b[0m \u001b[0mtext\u001b[0m\u001b[1;33m[\u001b[0m\u001b[1;36m1\u001b[0m\u001b[1;33m]\u001b[0m\u001b[1;33m\u001b[0m\u001b[1;33m\u001b[0m\u001b[0m\n\u001b[0;32m     16\u001b[0m \u001b[0mprint\u001b[0m\u001b[1;33m(\u001b[0m\u001b[1;34m'text_en : '\u001b[0m\u001b[1;33m,\u001b[0m \u001b[0mtext_en\u001b[0m\u001b[1;33m)\u001b[0m\u001b[1;33m\u001b[0m\u001b[1;33m\u001b[0m\u001b[0m\n",
      "\u001b[1;31mNameError\u001b[0m: name 'text' is not defined"
     ]
    }
   ],
   "source": [
    "import os\n",
    "from playsound import playsound\n",
    "from gtts import gTTS    #gTTS install 필요\n",
    "\n",
    "file_path = os.getcwd() + '/voicefiles/'\n",
    "\n",
    "print('같은 파일이 있나요? : ', os.path.isfile(file_path + 'temp_sound.mp3'))\n",
    "if os.path.isfile(file_path + 'temp_sound.mp3') == True:\n",
    "    os.remove(file_path + 'temp_sound.mp3')\n",
    "    print('삭제했습니다')\n",
    "\n",
    "none_text = 'There are no words in memory'\n",
    "tts = gTTS(text=none_text, lang='en')\n",
    "text_en = text[0]\n",
    "text_kr = text[1]\n",
    "print('text_en : ', text_en)\n",
    "print('text_kr : ', text_kr)\n",
    "tts_en = gTTS(text=text[0], lang='en')\n",
    "tts_kr = gTTS(text=str(text[1:]), lang='ko')\n",
    "tts.save(file_path + 'temp_sound.mp3')\n",
    "print(\"저장했습니다\")\n",
    "with open(file_path + 'temp_sound.mp3' ,'wb') as f:\n",
    "    tts_en.write_to_fp(f)\n",
    "    tts_kr.write_to_fp(f)\n",
    "\n",
    "playsound(file_path + 'temp_sound.mp3', True)"
   ]
  },
  {
   "cell_type": "code",
   "execution_count": 5,
   "metadata": {},
   "outputs": [
    {
     "ename": "UnicodeDecodeError",
     "evalue": "'utf-8' codec can't decode byte 0xc0 in position 0: invalid start byte",
     "output_type": "error",
     "traceback": [
      "\u001b[1;31m---------------------------------------------------------------------------\u001b[0m",
      "\u001b[1;31mUnicodeDecodeError\u001b[0m                        Traceback (most recent call last)",
      "\u001b[1;32m<ipython-input-5-a782ff6afb19>\u001b[0m in \u001b[0;36m<module>\u001b[1;34m\u001b[0m\n\u001b[0;32m     33\u001b[0m \u001b[1;33m\u001b[0m\u001b[0m\n\u001b[0;32m     34\u001b[0m     \u001b[1;32mwith\u001b[0m \u001b[0mopen\u001b[0m\u001b[1;33m(\u001b[0m\u001b[1;34m\"words.txt\"\u001b[0m\u001b[1;33m,\u001b[0m \u001b[1;34m\"rt\"\u001b[0m\u001b[1;33m,\u001b[0m \u001b[0mencoding\u001b[0m\u001b[1;33m=\u001b[0m\u001b[1;34m\"UTF8\"\u001b[0m\u001b[1;33m)\u001b[0m \u001b[1;32mas\u001b[0m \u001b[0mfr\u001b[0m\u001b[1;33m:\u001b[0m\u001b[1;33m\u001b[0m\u001b[1;33m\u001b[0m\u001b[0m\n\u001b[1;32m---> 35\u001b[1;33m         \u001b[0mallWords\u001b[0m \u001b[1;33m=\u001b[0m \u001b[0mfr\u001b[0m\u001b[1;33m.\u001b[0m\u001b[0mread\u001b[0m\u001b[1;33m(\u001b[0m\u001b[1;33m)\u001b[0m\u001b[1;33m\u001b[0m\u001b[1;33m\u001b[0m\u001b[0m\n\u001b[0m\u001b[0;32m     36\u001b[0m     \u001b[0mallWords\u001b[0m \u001b[1;33m=\u001b[0m \u001b[0mallWords\u001b[0m\u001b[1;33m.\u001b[0m\u001b[0msplit\u001b[0m\u001b[1;33m(\u001b[0m\u001b[1;34m\"₩n\"\u001b[0m\u001b[1;33m)\u001b[0m\u001b[1;33m\u001b[0m\u001b[1;33m\u001b[0m\u001b[0m\n\u001b[0;32m     37\u001b[0m     \u001b[0mprint\u001b[0m\u001b[1;33m(\u001b[0m\u001b[0mallWords\u001b[0m\u001b[1;33m)\u001b[0m\u001b[1;33m\u001b[0m\u001b[1;33m\u001b[0m\u001b[0m\n",
      "\u001b[1;32m~\\Anaconda3\\lib\\codecs.py\u001b[0m in \u001b[0;36mdecode\u001b[1;34m(self, input, final)\u001b[0m\n\u001b[0;32m    320\u001b[0m         \u001b[1;31m# decode input (taking the buffer into account)\u001b[0m\u001b[1;33m\u001b[0m\u001b[1;33m\u001b[0m\u001b[1;33m\u001b[0m\u001b[0m\n\u001b[0;32m    321\u001b[0m         \u001b[0mdata\u001b[0m \u001b[1;33m=\u001b[0m \u001b[0mself\u001b[0m\u001b[1;33m.\u001b[0m\u001b[0mbuffer\u001b[0m \u001b[1;33m+\u001b[0m \u001b[0minput\u001b[0m\u001b[1;33m\u001b[0m\u001b[1;33m\u001b[0m\u001b[0m\n\u001b[1;32m--> 322\u001b[1;33m         \u001b[1;33m(\u001b[0m\u001b[0mresult\u001b[0m\u001b[1;33m,\u001b[0m \u001b[0mconsumed\u001b[0m\u001b[1;33m)\u001b[0m \u001b[1;33m=\u001b[0m \u001b[0mself\u001b[0m\u001b[1;33m.\u001b[0m\u001b[0m_buffer_decode\u001b[0m\u001b[1;33m(\u001b[0m\u001b[0mdata\u001b[0m\u001b[1;33m,\u001b[0m \u001b[0mself\u001b[0m\u001b[1;33m.\u001b[0m\u001b[0merrors\u001b[0m\u001b[1;33m,\u001b[0m \u001b[0mfinal\u001b[0m\u001b[1;33m)\u001b[0m\u001b[1;33m\u001b[0m\u001b[1;33m\u001b[0m\u001b[0m\n\u001b[0m\u001b[0;32m    323\u001b[0m         \u001b[1;31m# keep undecoded input until the next call\u001b[0m\u001b[1;33m\u001b[0m\u001b[1;33m\u001b[0m\u001b[1;33m\u001b[0m\u001b[0m\n\u001b[0;32m    324\u001b[0m         \u001b[0mself\u001b[0m\u001b[1;33m.\u001b[0m\u001b[0mbuffer\u001b[0m \u001b[1;33m=\u001b[0m \u001b[0mdata\u001b[0m\u001b[1;33m[\u001b[0m\u001b[0mconsumed\u001b[0m\u001b[1;33m:\u001b[0m\u001b[1;33m]\u001b[0m\u001b[1;33m\u001b[0m\u001b[1;33m\u001b[0m\u001b[0m\n",
      "\u001b[1;31mUnicodeDecodeError\u001b[0m: 'utf-8' codec can't decode byte 0xc0 in position 0: invalid start byte"
     ]
    }
   ],
   "source": [
    "import requests, bs4, time\n",
    "\n",
    "\n",
    "def getDaumDic(word):\n",
    "    headers = {\n",
    "        'User-Agent': 'Mozilla/5.0 (Windows NT 10.0; Win64; x64) AppleWebKit/537.36 (KHTML, like Gecko) Chrome/81.0.4044.138 Safari/537.36'}\n",
    "    url = 'https://dic.daum.net/search.do?q={}'.format(word)\n",
    "    res = requests.get(url, headers=headers)\n",
    "    soup = bs4.BeautifulSoup(res.text, \"html.parser\")\n",
    "\n",
    "    # Get Word\n",
    "    try:\n",
    "        text1 = soup.find(\"span\", class_=\"txt_emph1\").getText()\n",
    "        print(\"[*] Get Word success\")\n",
    "    except:\n",
    "        text1 = \"None\"\n",
    "        print(\"[*] word failed\")\n",
    "\n",
    "    # Get Meaning\n",
    "    try:\n",
    "        tag2 = soup.find(\"ul\", class_=\"list_search\")\n",
    "        tag2 = tag2.find(\"span\", class_=\"txt_search\")\n",
    "        text2 = ' '.join(tag2.getText().split()).replace('\\n', '')\n",
    "        print(\"[*] Get Meaning success\")\n",
    "    except:\n",
    "        text2 = \"None\"\n",
    "        print(\"[*] Get Meaning failed\")\n",
    "\n",
    "    return text1, text2\n",
    "\n",
    "\n",
    "if __name__ == \"__main__\":\n",
    "\n",
    "    with open(\"words.txt\", \"rt\", encoding=\"UTF8\") as fr:\n",
    "        allWords = fr.read()\n",
    "    allWords = allWords.split(\"₩n\")\n",
    "    print(allWords)\n",
    "\n",
    "    with open(\"newwords.txt\", \"w\", encoding='utf-8') as fw:\n",
    "        i = 0\n",
    "        for word in allWords:\n",
    "            print(\"[*] Word : \" + word)\n",
    "            i = 1 + i\n",
    "            result1, result2 = getDaumDic(word)\n",
    "            if result1 == \"None\" or result2 == \"None\" or len(word) < 2:\n",
    "                continue\n",
    "            print(str(i) + \" : \" + result1 + \" / \" + result2)\n",
    "            fw.write(result1 + \" \" + result2 + \"\\n\")\n",
    "\n",
    "            if i >30:\n",
    "                break\n",
    "\n",
    "        fw.write(\"\"\"영단어 한글뜻\"\"\")\n",
    "\n",
    "            # time.sleep(0.5)"
   ]
  },
  {
   "cell_type": "code",
   "execution_count": null,
   "metadata": {},
   "outputs": [],
   "source": [
    "import os\n",
    "from playsound import playsound\n",
    "\n",
    "file_path = os.getcwd() + '/voicefiles/'\n",
    "text_en = 'mission'\n",
    "# pathis = os.getcwd() + '/voicefiles' + '/require.mp3'\n",
    "\n",
    "print(os.path.isfile(file_path + text_en+'.mp3'))"
   ]
  },
  {
   "cell_type": "code",
   "execution_count": null,
   "metadata": {
    "scrolled": true
   },
   "outputs": [],
   "source": [
    "note = []\n",
    "\n",
    "note.append(1)\n",
    "note.append(2)\n",
    "print(note)\n",
    "note.clear()\n",
    "note.append(3)\n",
    "note.append(4)\n",
    "print(note)"
   ]
  },
  {
   "cell_type": "code",
   "execution_count": null,
   "metadata": {},
   "outputs": [],
   "source": [
    "import tkinter\n",
    "\n",
    "window=tkinter.Tk()\n",
    "window.title(\"YUN DAE HEE\")\n",
    "window.geometry(\"640x400+100+100\")\n",
    "window.resizable(False, False)\n",
    "\n",
    "message=tkinter.Message(window, text=\"메세지입니다.\", width=100)\n",
    "message.pack()\n",
    "\n",
    "window.mainloop()"
   ]
  },
  {
   "cell_type": "code",
   "execution_count": null,
   "metadata": {},
   "outputs": [],
   "source": [
    "import tkinter as tk\n",
    "\n",
    "root= tk.Tk()\n",
    "\n",
    "root.title(\"wm min/max\")\n",
    "# this removes the maximize button\n",
    "# root.resizable(0,0)\n",
    "\n",
    "# # if on MS Windows, this might do the trick,\n",
    "# # but I wouldn't know:\n",
    "# root.attributes(toolwindow=1)\n",
    "\n",
    "# # for no window manager decorations at all:\n",
    "# root.overrideredirect(1)\n",
    "# # useful for something like a splash screen\n",
    "\n",
    "root.mainloop()"
   ]
  },
  {
   "cell_type": "code",
   "execution_count": null,
   "metadata": {
    "scrolled": true
   },
   "outputs": [],
   "source": [
    "from random import sample\n",
    "\n",
    "lst = sorted(sample(range(0, 51), 50))  # range(0, 50) 은 0 ~ 49 를 내보낸다.\n",
    "print(lst)"
   ]
  },
  {
   "cell_type": "code",
   "execution_count": null,
   "metadata": {},
   "outputs": [],
   "source": [
    "import tkinter\n",
    "\n",
    "window=tkinter.Tk()\n",
    "window.title(\"YUN DAE HEE\")\n",
    "window.geometry(\"640x400+100+100\")\n",
    "window.resizable(False, False)\n",
    "\n",
    "menubar=tkinter.Menu(window)\n",
    "\n",
    "menu_1=tkinter.Menu(menubar, tearoff=0)\n",
    "menu_1.add_command(label=\"하위 메뉴 1-1\")\n",
    "menu_1.add_command(label=\"하위 메뉴 1-2\")\n",
    "menu_1.add_separator()\n",
    "menu_1.add_command(label=\"하위 메뉴 1-3\")\n",
    "menubar.add_cascade(label=\"상위 메뉴 1\", menu=menu_1)\n",
    "\n",
    "toplevel=tkinter.Toplevel(window, menu=menubar)\n",
    "toplevel.geometry(\"320x200+820+100\")\n",
    "\n",
    "label=tkinter.Label(toplevel, text=\"YUN DAE HEE\")\n",
    "label.pack()\n",
    "\n",
    "window.mainloop()"
   ]
  },
  {
   "cell_type": "code",
   "execution_count": null,
   "metadata": {},
   "outputs": [],
   "source": [
    "import tkinter as tk\n",
    "\n",
    "def create_window():\n",
    "    window = tk.Toplevel(root)\n",
    "\n",
    "root = tk.Tk()\n",
    "b = tk.Button(root, text=\"Create new window\", command=create_window)\n",
    "b.pack()\n",
    "\n",
    "root.mainloop()"
   ]
  },
  {
   "cell_type": "code",
   "execution_count": null,
   "metadata": {},
   "outputs": [],
   "source": [
    "# lst = [['b'], '_', '_', ['e'], ['\\n']]\n",
    "from random import sample\n",
    "\n",
    "lst = ['b', '3', '8', 'e', '\\n']\n",
    "\n",
    "\n",
    "print(sample(lst, 5))\n",
    "\n",
    "strr = ''.join(lst)\n",
    "print(strr)"
   ]
  },
  {
   "cell_type": "code",
   "execution_count": null,
   "metadata": {},
   "outputs": [],
   "source": [
    "import tkinter\n",
    "\n",
    "window=tkinter.Tk()\n",
    "window.title(\"YUN DAE HEE\")\n",
    "window.geometry(\"640x480+100+100\")\n",
    "window.resizable(False, False)\n",
    "\n",
    "def flash():\n",
    "    checkbutton1.flash()\n",
    "\n",
    "CheckVariety_1=tkinter.IntVar()\n",
    "CheckVariety_2=tkinter.IntVar()\n",
    "\n",
    "checkbutton1=tkinter.Checkbutton(window, text=\"O\", variable=CheckVariety_1, activebackground=\"blue\")\n",
    "checkbutton2=tkinter.Checkbutton(window, text=\"△\", variable=CheckVariety_2)\n",
    "checkbutton3=tkinter.Checkbutton(window, text=\"X\", variable=CheckVariety_2, command=flash)\n",
    "\n",
    "checkbutton1.pack()\n",
    "checkbutton2.pack()\n",
    "checkbutton3.pack()\n",
    "\n",
    "window.mainloop()\n"
   ]
  },
  {
   "cell_type": "code",
   "execution_count": null,
   "metadata": {},
   "outputs": [],
   "source": [
    "import tkinter as Tkinter\n",
    "\n",
    "def hi():\n",
    "    print(\"안녕\")\n",
    "    print(var.get())\n",
    "\n",
    "root = Tkinter.Tk()\n",
    "var = Tkinter.IntVar()\n",
    "chk = Tkinter.Checkbutton(root, text='foo', variable=var, command = hi)\n",
    "chk.pack(side=Tkinter.LEFT)\n",
    "\n",
    "\n",
    "\n",
    "root.mainloop()"
   ]
  },
  {
   "cell_type": "code",
   "execution_count": null,
   "metadata": {},
   "outputs": [],
   "source": [
    "import tkinter\n",
    "\n",
    "window=tkinter.Tk()\n",
    "window.title(\"YUN DAE HEE\")\n",
    "window.geometry(\"640x480+100+100\")\n",
    "window.resizable(False, False)\n",
    "\n",
    "def flash():\n",
    "    print(var.get())\n",
    "    \n",
    "var=tkinter.IntVar()\n",
    "\n",
    "checkbutton1=tkinter.Checkbutton(window, text=\"O\", variable = var, command = flash)\n",
    "print(CheckVariety_1)\n",
    "\n",
    "checkbutton1.pack()\n",
    "\n",
    "window.mainloop()"
   ]
  },
  {
   "cell_type": "code",
   "execution_count": null,
   "metadata": {},
   "outputs": [],
   "source": [
    "# 영어 흰트주기\n",
    "\n",
    "def english_hint(spelling):\n",
    "    hint = []\n",
    "    for w in list(spelling):\n",
    "        hint.append(w)\n",
    "    \n",
    "    for i in range(1, len(spelling) - 1):\n",
    "        hint[i] = '_'\n",
    "    return hint\n",
    "    \n",
    "    \n",
    "    \n",
    "spelling = 'goodbye'\n",
    "\n",
    "hint = english_hint(spelling)\n",
    "print(hint)"
   ]
  },
  {
   "cell_type": "code",
   "execution_count": null,
   "metadata": {},
   "outputs": [],
   "source": [
    "# 초성만 띠어내기\n",
    "\n",
    "CHOSUNG_LIST = ['ㄱ', 'ㄲ', 'ㄴ', 'ㄷ', 'ㄸ', 'ㄹ', 'ㅁ', 'ㅂ', 'ㅃ', 'ㅅ', 'ㅆ', 'ㅇ', 'ㅈ', 'ㅉ', 'ㅊ', 'ㅋ', 'ㅌ', 'ㅍ', 'ㅎ']\n",
    "\n",
    "def korean_to_be_englished(korean_word):\n",
    "    r_list = []\n",
    "    for w in list(korean_word.strip()):\n",
    "        if '가' <= w <= '힣':\n",
    "            ch1 = (ord(w) - ord('가')) // 588\n",
    "            \n",
    "            r_list.append(CHOSUNG_LIST[ch1])\n",
    "        else:\n",
    "            r_list.append(w)\n",
    "    return r_list\n",
    "\n",
    "hint = korean_to_be_englished('야이런놈아dfsdf')\n",
    "print(hint)\n",
    "    "
   ]
  },
  {
   "cell_type": "code",
   "execution_count": null,
   "metadata": {},
   "outputs": [],
   "source": [
    "from gtts import gTTS\n",
    "\n",
    "text = 'Love always ends'\n",
    "tts_en = gTTS(text=text, lang='en')\n",
    "tts_kr = gTTS(text='사랑은 항상 끝나버린다', lang='ko')\n",
    "tts_en.save(\"Love always ends.mp3\")\n",
    "f = open('Love always ends.mp3', 'wb')\n",
    "tts_en.write_to_fp(f)\n",
    "tts_kr.write_to_fp(f)\n",
    "f.close()"
   ]
  },
  {
   "cell_type": "code",
   "execution_count": null,
   "metadata": {},
   "outputs": [],
   "source": [
    "from gtts import gTTS\n",
    "text_en = 'internet'\n",
    "text_kor = '인터넷'\n",
    "tts_en = gTTS(text=text_en, lang='en')\n",
    "tts_kr = gTTS(text=str(text_kor), lang='ko')\n",
    "tts_en.save(text_en + \".mp3\")\n",
    "f = open(text_en+'.mp3', 'wb')\n",
    "tts_en.write_to_fp(f)\n",
    "tts_kr.write_to_fp(f)\n",
    "f.close()"
   ]
  },
  {
   "cell_type": "code",
   "execution_count": null,
   "metadata": {},
   "outputs": [],
   "source": [
    "from tkinter import *\n",
    "\n",
    "root = Tk() \n",
    "root.title(\"app\")\n",
    "screen_width = root.winfo_screenwidth()\n",
    "screen_height = root.winfo_screenheight()\n",
    "root.geometry(\"550x250+%d+%d\" % (screen_width/2-275, screen_height/2-125))\n",
    "root.configure(background='gold')\n",
    "root.lift()\n",
    "\n",
    "mainloop()"
   ]
  },
  {
   "cell_type": "code",
   "execution_count": null,
   "metadata": {},
   "outputs": [],
   "source": [
    "import tkinter\n",
    "\n",
    "window=tkinter.Tk()\n",
    "window.title(\"YUN DAE HEE\")\n",
    "window.geometry(\"640x480+100+100\")\n",
    "window.resizable(False, False)\n",
    "\n",
    "def check():\n",
    "    label.config(text= \"RadioVariety_1 = \" + str(RadioVariety_1.get()) + \"\\n\" +\n",
    "                       \"RadioVariety_2 = \" + str(RadioVariety_2.get()) + \"\\n\\n\" +\n",
    "                       \"Total = \"          + str(RadioVariety_1.get() + RadioVariety_2.get()))\n",
    "\n",
    "RadioVariety_1=tkinter.IntVar()\n",
    "RadioVariety_2=tkinter.IntVar()\n",
    "\n",
    "radio1=tkinter.Radiobutton(window, text=\"1번\", value=3, variable=RadioVariety_1, command=check)\n",
    "radio1.pack()\n",
    "\n",
    "radio2=tkinter.Radiobutton(window, text=\"2번(1번)\", value=3, variable=RadioVariety_1, command=check)\n",
    "radio2.pack()\n",
    "\n",
    "radio3=tkinter.Radiobutton(window, text=\"3번\", value=9, variable=RadioVariety_1, command=check)\n",
    "radio3.pack()\n",
    "\n",
    "label=tkinter.Label(window, text=\"None\", height=5)\n",
    "label.pack()\n",
    "\n",
    "radio4=tkinter.Radiobutton(window, text=\"4번\", value=12, variable=RadioVariety_2, command=check)\n",
    "radio4.pack()\n",
    "\n",
    "radio5=tkinter.Radiobutton(window, text=\"5번\", value=15, variable=RadioVariety_2, command=check)\n",
    "radio5.pack()\n",
    "\n",
    "window.mainloop()"
   ]
  }
 ],
 "metadata": {
  "kernelspec": {
   "display_name": "Python 3",
   "language": "python",
   "name": "python3"
  },
  "language_info": {
   "codemirror_mode": {
    "name": "ipython",
    "version": 3
   },
   "file_extension": ".py",
   "mimetype": "text/x-python",
   "name": "python",
   "nbconvert_exporter": "python",
   "pygments_lexer": "ipython3",
   "version": "3.7.5"
  }
 },
 "nbformat": 4,
 "nbformat_minor": 2
}
